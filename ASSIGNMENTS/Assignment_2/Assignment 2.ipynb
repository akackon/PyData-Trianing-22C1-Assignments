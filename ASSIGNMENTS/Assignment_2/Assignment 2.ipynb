{
 "cells": [
  {
   "cell_type": "code",
   "execution_count": 100,
   "id": "5d671548",
   "metadata": {},
   "outputs": [],
   "source": [
    "# Using lxml because it is the best parser to use for xpath\n",
    "from lxml import html\n",
    "# Using this library in place of beautiful soup because the website is protected by cloudflare\n",
    "import cfscrape\n",
    "# Use pandas to handle the dataframes\n",
    "import pandas as pd\n",
    "\n",
    "# Get the url of the website you are scraping\n",
    "url = \"https://www.jumia.com.gh/phones-tablets/\"\n",
    "\n",
    "# Create an instance of the cfscrape\n",
    "scraper = cfscrape.create_scraper()\n",
    "\n",
    "# Make a request on the url using the cfscrape\n",
    "res = scraper.get(url)\n",
    "# Get the xml content of the response\n",
    "tree = html.fromstring(res.content)\n",
    "# Get the xpath id to the items on sale\n",
    "devices = tree.xpath('/html/body/div/main/div[2]/div[3]/section/div[1]/article[*]/a/div[2]/h3')\n",
    "devices_prices = tree.xpath('/html/body/div/main/div[2]/div[3]/section/div[1]/article[*]/a/div[2]/div[@class=\"prc\"]')\n",
    "# op = tree.xpath('/html/body/div/main/div[2]/div[3]/section/div[1]/article[*]/a/div[2]/div[2]/div[1]')\n",
    "original_prices = [original_price for original_price in op if original_price.text]\n",
    "discount_prices = [device_price.text for device_price in devices_prices if device_price.text]\n",
    "devices = [device.text for device in devices if device.text]\n",
    "data = {\"Device Names\":devices,\"Discount Prices\": prices}\n",
    "dataframe = pd.DataFrame(data)\n",
    "dataframe.to_csv(\"assignment2.csv\")"
   ]
  }
 ],
 "metadata": {
  "kernelspec": {
   "display_name": "Python 3 (ipykernel)",
   "language": "python",
   "name": "python3"
  },
  "language_info": {
   "codemirror_mode": {
    "name": "ipython",
    "version": 3
   },
   "file_extension": ".py",
   "mimetype": "text/x-python",
   "name": "python",
   "nbconvert_exporter": "python",
   "pygments_lexer": "ipython3",
   "version": "3.9.4"
  }
 },
 "nbformat": 4,
 "nbformat_minor": 5
}
